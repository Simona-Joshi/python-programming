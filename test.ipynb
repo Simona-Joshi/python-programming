{
 "cells": [
  {
   "cell_type": "markdown",
   "metadata": {},
   "source": [
    "## Simona Joshi\n",
    "### This week’s assignment covered some basic Python topics like fundamental operations, string manipulation, conditional statements, loops, etc. and working with lists. Through hands on practice, this one helped us build those basic coding skills that will help us in future when we tackle more complex programming tasks. \n",
    "### Basic Python Operations\n",
    "- Printing with print() function\n",
    "- Variable assignment and printing\n",
    "### Arithmetic Operations\n",
    "- Addition\n",
    "- Subtraction\n",
    "- Multiplication\n",
    "- Division\n",
    "- Modulus (remainder)\n",
    "### Strings in Python\n",
    "- String length with len()\n",
    "- Slicing (substrings)\n",
    "- Getting the first and last character\n",
    "- String concatenation\n",
    "- String manipulation: lowercase conversion, capitalization, find() method\n",
    "- Converting strings to lists with split()\n",
    "### Conditional Statements\n",
    "- if, elif, else conditions\n",
    "- Day-specific and time-specific messages with conditions\n",
    "- Simple calculator example with basic arithmetic operations\n",
    "### Loops\n",
    "- while loop\n",
    "### Counting\n",
    "- Calculating the sum of numbers\n",
    "- Calculating sum of even and odd numbers\n",
    "### Lists\n",
    "- List creation and element access\n",
    "- List methods:\n",
    "- append(), pop(), remove(), insert(), count(), clear(), copy()\n",
    "- Checking if an element exists in a list with in keyword\n",
    "### Looping Through Lists\n",
    "- Summing elements in a list\n",
    "- Finding maximum and minimum values in a list\n",
    "- Joining list elements into a single string with join()\n"
   ]
  },
  {
   "cell_type": "markdown",
   "metadata": {},
   "source": [
    "### This is my first hello world program in python\n"
   ]
  },
  {
   "cell_type": "code",
   "execution_count": 2,
   "metadata": {},
   "outputs": [
    {
     "name": "stdout",
     "output_type": "stream",
     "text": [
      "Hello World\n",
      "5 10\n"
     ]
    }
   ],
   "source": [
    "hello = \"Hello World\"\n",
    "print(hello)\n",
    "a= 5\n",
    "b =10\n",
    "print (a, b)\n",
    "highest_mountain =\"Everest\"\n",
    "\n"
   ]
  },
  {
   "cell_type": "markdown",
   "metadata": {},
   "source": [
    "## Numbers ##\n"
   ]
  },
  {
   "cell_type": "code",
   "execution_count": 3,
   "metadata": {},
   "outputs": [],
   "source": [
    "#addition\n",
    "a =5\n",
    "b=10\n",
    "sum =a+b\n",
    "#subtraction\n",
    "diff= a-b\n",
    "#multiplicatin\n",
    "product_of_ab= a*b\n",
    "#division\n",
    "div_of_ab = a/b\n",
    "#modulus\n",
    "rem_ab= a%b\n",
    "#power\n"
   ]
  },
  {
   "cell_type": "markdown",
   "metadata": {},
   "source": [
    "## String ##\n"
   ]
  },
  {
   "cell_type": "code",
   "execution_count": 17,
   "metadata": {},
   "outputs": [
    {
     "name": "stdout",
     "output_type": "stream",
     "text": [
      "12\n",
      "first last name Simona Joshi\n",
      "S\n",
      "i\n",
      "Simona12Joshi Simona Joshi\n",
      "simona joshi\n",
      "-1\n"
     ]
    }
   ],
   "source": [
    "name= 'Simona Joshi'\n",
    "#length of the string\n",
    "total_no_of_chars = len(name)\n",
    "print( total_no_of_chars)\n",
    "#sub-string\n",
    "first_name = name[0:6]\n",
    "last_name= name[7:14]\n",
    "print(\"first last name\", first_name, last_name)\n",
    "\n",
    "#get first char\n",
    "first_char = name[0]\n",
    "print (first_char)\n",
    "#get last char \n",
    "last_char = name [1]\n",
    "print (last_char)\n",
    "\n",
    "#concatination\n",
    "full_name= first_name+ \"12\" + last_name\n",
    "full_name1 = f\"{first_name} {last_name}\"\n",
    "print(full_name, full_name1)\n",
    "print(name.lower())\n",
    "\n",
    "#capitalize\n",
    "capital_name =\"test\". find('z')\n",
    "#convert string into list\n",
    "all_chars_of_name = name.split()\n",
    "print(capital_name)\n",
    "\n",
    "\n"
   ]
  },
  {
   "cell_type": "markdown",
   "metadata": {},
   "source": [
    "## Conditional Statement\n",
    "- if\n",
    "- elif\n",
    "- else"
   ]
  },
  {
   "cell_type": "code",
   "execution_count": 4,
   "metadata": {},
   "outputs": [
    {
     "name": "stdout",
     "output_type": "stream",
     "text": [
      "I have to wake up at 5AM\n",
      "I have to go to office\n",
      "Its Wednesday\n"
     ]
    }
   ],
   "source": [
    "day= 4\n",
    "if day == 4:\n",
    "    print('I have to wake up at 5AM')\n",
    "    print('I have to go to office')\n",
    "    print('Its Wednesday')\n",
    "elif day ==5:\n",
    "    print('Its Thursday')\n",
    "elif day ==6:\n",
    "    print (' Its Friday') \n",
    "else: \n",
    "    print ('Weekend')\n",
    "    "
   ]
  },
  {
   "cell_type": "code",
   "execution_count": 3,
   "metadata": {},
   "outputs": [
    {
     "name": "stdout",
     "output_type": "stream",
     "text": [
      "b is greater \n"
     ]
    }
   ],
   "source": [
    "a= 5\n",
    "b= 10\n",
    "if a>b:\n",
    "    print ('a is greater')\n",
    "else: \n",
    "    print ('b is greater ')"
   ]
  },
  {
   "cell_type": "code",
   "execution_count": 1,
   "metadata": {},
   "outputs": [
    {
     "name": "stdout",
     "output_type": "stream",
     "text": [
      "lets practice english\n"
     ]
    }
   ],
   "source": [
    "time = float(input(\"Enter the number: \"))\n",
    "if time>=10 and time<12:\n",
    "    print(\"Its Maths Class \")\n",
    "elif time>=12 and time<14:\n",
    "    print(\"DSA Class\")\n",
    "elif time>=14 and time<16:\n",
    "    print(\"lets practice english\")\n",
    "elif time>16:\n",
    "    print(\"Its Time To Go Home\")\n",
    "else:\n",
    "    print(\"just Started my Day\")"
   ]
  },
  {
   "cell_type": "markdown",
   "metadata": {},
   "source": [
    "## LOOP "
   ]
  },
  {
   "cell_type": "code",
   "execution_count": 2,
   "metadata": {},
   "outputs": [
    {
     "name": "stdout",
     "output_type": "stream",
     "text": [
      "hello 1\n",
      "hello 2\n",
      "hello 3\n",
      "hello 4\n",
      "hello 5\n",
      "hello 6\n",
      "hello 7\n",
      "hello 8\n",
      "hello 9\n",
      "hello 10\n"
     ]
    }
   ],
   "source": [
    "from time import sleep\n",
    "counter=1\n",
    "while counter<=10:\n",
    "    print(f'hello {counter}')\n",
    "    counter +=1"
   ]
  },
  {
   "cell_type": "code",
   "execution_count": 3,
   "metadata": {},
   "outputs": [
    {
     "name": "stdout",
     "output_type": "stream",
     "text": [
      "250500 0\n"
     ]
    }
   ],
   "source": [
    "i =1\n",
    "n= 1000\n",
    "sum_of_even_number =0\n",
    "sum_of_odd_number =0\n",
    "while i<=n:\n",
    "    if i%2==0:\n",
    "        sum_of_even_number +=i\n",
    "    else:\n",
    "        sum_of_odd_number +i\n",
    "    i+=1\n",
    "print(sum_of_even_number, sum_of_odd_number)"
   ]
  },
  {
   "cell_type": "code",
   "execution_count": 10,
   "metadata": {},
   "outputs": [
    {
     "name": "stdout",
     "output_type": "stream",
     "text": [
      "1\n",
      "6\n",
      "5\n"
     ]
    }
   ],
   "source": [
    "numbers= [1, 2, 3,4,5,5]\n",
    "students= ['Ram', 'Hari']\n",
    "\n",
    "#access elements from list\n",
    "first_number =numbers[0]\n",
    "print(first_number)\n",
    "#count total number of items\n",
    "total_items = len(numbers)\n",
    "print(total_items)\n",
    "#last element\n",
    "last_element = numbers[total_items-1]\n",
    "print(last_element)"
   ]
  },
  {
   "cell_type": "markdown",
   "metadata": {},
   "source": [
    "# list method\n",
    "- append (appends new item at the end)\n",
    "- pop (removes last element)\n",
    "- count ( return total number of items)\n",
    "- insert (insert item at particular index)\n",
    "- extend (extend the list)\n",
    "- copy()\n",
    "- clear (delete all items)"
   ]
  },
  {
   "cell_type": "code",
   "execution_count": 15,
   "metadata": {},
   "outputs": [
    {
     "name": "stdout",
     "output_type": "stream",
     "text": [
      "[1, 2, 3, 4, 5, 6, 7, 1]\n",
      "[1, 2, 3, 4, 5, 6, 7, 1, 8]\n",
      "[1, 2, 3, 4, 5, 6, 7, 1]\n",
      "[1, 2, 3, 4, 6, 7, 1]\n",
      "[1, 2, 10, 3, 4, 6, 7, 1]\n",
      "2\n",
      "[1, 2, 3, 4]\n",
      "[]\n"
     ]
    }
   ],
   "source": [
    "numbers=[1,2,3,4,5,6,7,1]\n",
    "print(numbers)\n",
    "#append item\n",
    "numbers.append (8)\n",
    "print (numbers)\n",
    "#remove last item\n",
    "numbers.pop()\n",
    "print(numbers)\n",
    "#remove\n",
    "numbers.remove(5)\n",
    "print(numbers)\n",
    "#insert\n",
    "numbers.insert(2,10)\n",
    "print(numbers)\n",
    "#count\n",
    "print(numbers.count(1))\n",
    "\n",
    "numbers_1 =[1,2]\n",
    "numbers_2 =[3,4]\n",
    "numbers_1.extend(numbers_2)\n",
    "print(numbers_1)\n",
    "\n",
    "#clear\n",
    "numbers_1.clear()\n",
    "print(numbers_1)"
   ]
  },
  {
   "cell_type": "code",
   "execution_count": 23,
   "metadata": {},
   "outputs": [
    {
     "name": "stdout",
     "output_type": "stream",
     "text": [
      "['ram', 'hari', 'gopal']\n",
      "6 5\n",
      "['ram', 'hari']\n"
     ]
    }
   ],
   "source": [
    "students=['ram', 'hari']\n",
    "new_students= students\n",
    "students.append('gopal')\n",
    "print(new_students)\n",
    "#\n",
    "a=5\n",
    "b=a\n",
    "a=a+1\n",
    "print(a,b)\n",
    "\n",
    "a=['ram', 'hari']\n",
    "b=a.copy()\n",
    "a.append('gopal')\n",
    "print(b)\n",
    "\n",
    "#check value exist in list\n",
    "if 'rama' in a :\n",
    "    print('ram exist in a ')"
   ]
  },
  {
   "cell_type": "markdown",
   "metadata": {},
   "source": [
    "# Loop through list"
   ]
  },
  {
   "cell_type": "code",
   "execution_count": 26,
   "metadata": {},
   "outputs": [
    {
     "name": "stdout",
     "output_type": "stream",
     "text": [
      "41\n"
     ]
    }
   ],
   "source": [
    "#find sum\n",
    "numbers=[3,6,2,8,1,9,7,2,3]\n",
    "total_items =len(numbers)\n",
    "i=0\n",
    "sum=0\n",
    "while i<total_items:\n",
    "    sum += numbers[i]\n",
    "    i+=1\n",
    "print(sum)\n"
   ]
  },
  {
   "cell_type": "code",
   "execution_count": 31,
   "metadata": {},
   "outputs": [
    {
     "name": "stdout",
     "output_type": "stream",
     "text": [
      "1009\n"
     ]
    }
   ],
   "source": [
    "# max value from given list\n",
    "n=[-10,3,9,-50,100,1009]\n",
    "i=0\n",
    "total_items =len(n)\n",
    "max_value=n[0]\n",
    "while i<total_items:\n",
    "    if n[i]>max_value:\n",
    "         max_value=n[i]\n",
    "    i+=1\n",
    "print(max_value)\n"
   ]
  },
  {
   "cell_type": "code",
   "execution_count": 36,
   "metadata": {},
   "outputs": [
    {
     "name": "stdout",
     "output_type": "stream",
     "text": [
      "-50\n"
     ]
    }
   ],
   "source": [
    "#min value\n",
    "n=[-10,3,9,-50,100,1009]\n",
    "i=0\n",
    "total_items =len(n)\n",
    "min_value=n[0]\n",
    "while i<total_items:\n",
    "    if n[i]<min_value:\n",
    "         min_value=n[i]\n",
    "    i+=1\n",
    "print(min_value)\n"
   ]
  },
  {
   "cell_type": "markdown",
   "metadata": {},
   "source": [
    "# join all list items into single string"
   ]
  },
  {
   "cell_type": "code",
   "execution_count": 2,
   "metadata": {},
   "outputs": [
    {
     "name": "stdout",
     "output_type": "stream",
     "text": [
      "ram+hari+gopal\n"
     ]
    }
   ],
   "source": [
    "students=['ram', 'hari', 'gopal']\n",
    "allstudents= '+'.join(students)\n",
    "print(allstudents)\n",
    " "
   ]
  }
 ],
 "metadata": {
  "kernelspec": {
   "display_name": "Python 3",
   "language": "python",
   "name": "python3"
  },
  "language_info": {
   "codemirror_mode": {
    "name": "ipython",
    "version": 3
   },
   "file_extension": ".py",
   "mimetype": "text/x-python",
   "name": "python",
   "nbconvert_exporter": "python",
   "pygments_lexer": "ipython3",
   "version": "3.12.4"
  }
 },
 "nbformat": 4,
 "nbformat_minor": 2
}
